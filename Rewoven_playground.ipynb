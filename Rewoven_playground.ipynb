{
 "cells": [
  {
   "cell_type": "code",
   "execution_count": 1,
   "id": "0358e028",
   "metadata": {},
   "outputs": [
    {
     "data": {
      "text/plain": [
       "{'email': 'radifar@protonmail.com',\n",
       " 'is_superuser': True,\n",
       " 'is_active': True,\n",
       " 'full_name': 'Muhammad Radifar',\n",
       " 'created_on': '2021-10-24T06:22:05.802750',\n",
       " 'user_id': 1}"
      ]
     },
     "execution_count": 1,
     "metadata": {},
     "output_type": "execute_result"
    }
   ],
   "source": [
    "from molar import ClientConfig, Client\n",
    "\n",
    "admin_cfg = ClientConfig(server_url=\"http://localhost:8000\",\n",
    "                         email=\"radifar@protonmail.com\",\n",
    "                         password=\"radifar123\",\n",
    "                         database_name=\"main\")\n",
    "\n",
    "admin_client = Client(admin_cfg)\n",
    "\n",
    "admin_client.test_token()"
   ]
  },
  {
   "cell_type": "markdown",
   "id": "3d959e9f",
   "metadata": {},
   "source": [
    "***\n",
    "\n",
    "I'd prefer viewing the entries in dictionary rather than pandas dataframe, so I overwrite the `view_entries` method from `Client` class."
   ]
  },
  {
   "cell_type": "code",
   "execution_count": 2,
   "id": "67d3c497",
   "metadata": {},
   "outputs": [],
   "source": [
    "class RewovenClient(Client):\n",
    "    def __init__(self, cfg):\n",
    "        super().__init__(cfg)\n",
    "    \n",
    "    def view_entries(\n",
    "        self,\n",
    "        database_name = None,\n",
    "    ):\n",
    "        database_name = database_name or self.cfg.database_name\n",
    "        return self.request(\n",
    "            f\"/eventstore/{database_name}\",\n",
    "            method=\"GET\",\n",
    "            return_pandas_dataframe=False,\n",
    "            headers=self.headers,\n",
    "        )"
   ]
  },
  {
   "cell_type": "code",
   "execution_count": 3,
   "id": "eb635e5a",
   "metadata": {},
   "outputs": [
    {
     "data": {
      "text/html": [
       "<pre style=\"white-space:pre;overflow-x:auto;line-height:normal;font-family:Menlo,'DejaVu Sans Mono',consolas,'Courier New',monospace\"><span style=\"color: #7fbfbf; text-decoration-color: #7fbfbf\">[21:15:57] </span><span style=\"color: #000080; text-decoration-color: #000080\">INFO    </span> Database request created                                    <a href=\"file:///home/radifar/anaconda3/envs/molar-hackathon/lib/python3.9/site-packages/molar/client.py\"><span style=\"color: #7f7f7f; text-decoration-color: #7f7f7f\">client.py</span></a><span style=\"color: #7f7f7f; text-decoration-color: #7f7f7f\">:107</span>\n",
       "</pre>\n"
      ],
      "text/plain": [
       "\u001b[2;36m[21:15:57]\u001b[0m\u001b[2;36m \u001b[0m\u001b[34mINFO    \u001b[0m Database request created                                    \u001b]8;id=27589;file:///home/radifar/anaconda3/envs/molar-hackathon/lib/python3.9/site-packages/molar/client.py\u001b\\\u001b[2mclient.py\u001b[0m\u001b]8;;\u001b\\\u001b[2m:107\u001b[0m\n"
      ]
     },
     "metadata": {},
     "output_type": "display_data"
    },
    {
     "data": {
      "text/plain": [
       "{'msg': 'Database request created'}"
      ]
     },
     "execution_count": 3,
     "metadata": {},
     "output_type": "execute_result"
    }
   ],
   "source": [
    "radifar_cfg = ClientConfig(server_url=\"http://localhost:8000\",\n",
    "                        email=\"new_user@molar.org\",\n",
    "                        password=\"new_password\",\n",
    "                        database_name=\"rewoven_main\")\n",
    "\n",
    "radifar = RewovenClient(radifar_cfg)\n",
    "\n",
    "radifar.database_creation_request(\n",
    "    superuser_fullname=\"Muhammad Radifar\",\n",
    "    alembic_revisions=[\"rewoven_main@head\"]\n",
    ")"
   ]
  },
  {
   "cell_type": "code",
   "execution_count": 4,
   "id": "cdafc2f7",
   "metadata": {},
   "outputs": [
    {
     "data": {
      "text/html": [
       "<div>\n",
       "<style scoped>\n",
       "    .dataframe tbody tr th:only-of-type {\n",
       "        vertical-align: middle;\n",
       "    }\n",
       "\n",
       "    .dataframe tbody tr th {\n",
       "        vertical-align: top;\n",
       "    }\n",
       "\n",
       "    .dataframe thead th {\n",
       "        text-align: right;\n",
       "    }\n",
       "</style>\n",
       "<table border=\"1\" class=\"dataframe\">\n",
       "  <thead>\n",
       "    <tr style=\"text-align: right;\">\n",
       "      <th></th>\n",
       "      <th>revision</th>\n",
       "      <th>log_entry</th>\n",
       "      <th>branch_labels</th>\n",
       "    </tr>\n",
       "  </thead>\n",
       "  <tbody>\n",
       "    <tr>\n",
       "      <th>0</th>\n",
       "      <td>0bc99b5f8fcc</td>\n",
       "      <td>Rev: 0bc99b5f8fcc (head)\\nParent: f31c7d486f1f...</td>\n",
       "      <td>[eventsourcing, compchem]</td>\n",
       "    </tr>\n",
       "    <tr>\n",
       "      <th>1</th>\n",
       "      <td>311e0c050706</td>\n",
       "      <td>Rev: 311e0c050706 (head)\\nParent: bf3c5d811155...</td>\n",
       "      <td>[molar-main]</td>\n",
       "    </tr>\n",
       "    <tr>\n",
       "      <th>2</th>\n",
       "      <td>86c6468a76a8</td>\n",
       "      <td>Rev: 86c6468a76a8 (head)\\nParent: f31c7d486f1f...</td>\n",
       "      <td>[rewoven_main, eventsourcing]</td>\n",
       "    </tr>\n",
       "  </tbody>\n",
       "</table>\n",
       "</div>"
      ],
      "text/plain": [
       "       revision                                          log_entry  \\\n",
       "0  0bc99b5f8fcc  Rev: 0bc99b5f8fcc (head)\\nParent: f31c7d486f1f...   \n",
       "1  311e0c050706  Rev: 311e0c050706 (head)\\nParent: bf3c5d811155...   \n",
       "2  86c6468a76a8  Rev: 86c6468a76a8 (head)\\nParent: f31c7d486f1f...   \n",
       "\n",
       "                   branch_labels  \n",
       "0      [eventsourcing, compchem]  \n",
       "1                   [molar-main]  \n",
       "2  [rewoven_main, eventsourcing]  "
      ]
     },
     "execution_count": 4,
     "metadata": {},
     "output_type": "execute_result"
    }
   ],
   "source": [
    "admin_client.get_alembic_revisions()"
   ]
  },
  {
   "cell_type": "code",
   "execution_count": 5,
   "id": "795e5cd4",
   "metadata": {},
   "outputs": [
    {
     "data": {
      "text/html": [
       "<pre style=\"white-space:pre;overflow-x:auto;line-height:normal;font-family:Menlo,'DejaVu Sans Mono',consolas,'Courier New',monospace\"><span style=\"color: #7fbfbf; text-decoration-color: #7fbfbf\">[21:16:07] </span><span style=\"color: #000080; text-decoration-color: #000080\">INFO    </span> Database rewoven_main created.                              <a href=\"file:///home/radifar/anaconda3/envs/molar-hackathon/lib/python3.9/site-packages/molar/client.py\"><span style=\"color: #7f7f7f; text-decoration-color: #7f7f7f\">client.py</span></a><span style=\"color: #7f7f7f; text-decoration-color: #7f7f7f\">:107</span>\n",
       "</pre>\n"
      ],
      "text/plain": [
       "\u001b[2;36m[21:16:07]\u001b[0m\u001b[2;36m \u001b[0m\u001b[34mINFO    \u001b[0m Database rewoven_main created.                              \u001b]8;id=306018;file:///home/radifar/anaconda3/envs/molar-hackathon/lib/python3.9/site-packages/molar/client.py\u001b\\\u001b[2mclient.py\u001b[0m\u001b]8;;\u001b\\\u001b[2m:107\u001b[0m\n"
      ]
     },
     "metadata": {},
     "output_type": "display_data"
    },
    {
     "data": {
      "text/plain": [
       "{'msg': 'Database rewoven_main created.'}"
      ]
     },
     "execution_count": 5,
     "metadata": {},
     "output_type": "execute_result"
    }
   ],
   "source": [
    "admin_client.approve_database(\"rewoven_main\")"
   ]
  },
  {
   "cell_type": "code",
   "execution_count": 6,
   "id": "0686ba3b",
   "metadata": {},
   "outputs": [
    {
     "data": {
      "text/plain": [
       "[]"
      ]
     },
     "execution_count": 6,
     "metadata": {},
     "output_type": "execute_result"
    }
   ],
   "source": [
    "radifar.view_entries()"
   ]
  },
  {
   "cell_type": "code",
   "execution_count": 7,
   "id": "53ffb976",
   "metadata": {},
   "outputs": [],
   "source": [
    "dbinfo = radifar.get_database_information()"
   ]
  },
  {
   "cell_type": "code",
   "execution_count": 8,
   "id": "5e19dbbe",
   "metadata": {},
   "outputs": [
    {
     "data": {
      "text/html": [
       "<div>\n",
       "<style scoped>\n",
       "    .dataframe tbody tr th:only-of-type {\n",
       "        vertical-align: middle;\n",
       "    }\n",
       "\n",
       "    .dataframe tbody tr th {\n",
       "        vertical-align: top;\n",
       "    }\n",
       "\n",
       "    .dataframe thead th {\n",
       "        text-align: right;\n",
       "    }\n",
       "</style>\n",
       "<table border=\"1\" class=\"dataframe\">\n",
       "  <thead>\n",
       "    <tr style=\"text-align: right;\">\n",
       "      <th></th>\n",
       "      <th>table_name</th>\n",
       "      <th>column_name</th>\n",
       "      <th>type</th>\n",
       "      <th>subtype</th>\n",
       "      <th>is_nullable</th>\n",
       "      <th>constraint_name</th>\n",
       "      <th>containt_type</th>\n",
       "      <th>references</th>\n",
       "    </tr>\n",
       "  </thead>\n",
       "  <tbody>\n",
       "    <tr>\n",
       "      <th>34</th>\n",
       "      <td>step</td>\n",
       "      <td>created_on</td>\n",
       "      <td>timestamp without time zone</td>\n",
       "      <td>timestamp</td>\n",
       "      <td>NO</td>\n",
       "      <td>None</td>\n",
       "      <td>None</td>\n",
       "      <td>None</td>\n",
       "    </tr>\n",
       "    <tr>\n",
       "      <th>35</th>\n",
       "      <td>step</td>\n",
       "      <td>depends_on</td>\n",
       "      <td>uuid</td>\n",
       "      <td>uuid</td>\n",
       "      <td>YES</td>\n",
       "      <td>None</td>\n",
       "      <td>None</td>\n",
       "      <td>None</td>\n",
       "    </tr>\n",
       "    <tr>\n",
       "      <th>36</th>\n",
       "      <td>step</td>\n",
       "      <td>input</td>\n",
       "      <td>text</td>\n",
       "      <td>text</td>\n",
       "      <td>YES</td>\n",
       "      <td>None</td>\n",
       "      <td>None</td>\n",
       "      <td>None</td>\n",
       "    </tr>\n",
       "    <tr>\n",
       "      <th>37</th>\n",
       "      <td>step</td>\n",
       "      <td>log</td>\n",
       "      <td>text</td>\n",
       "      <td>text</td>\n",
       "      <td>YES</td>\n",
       "      <td>None</td>\n",
       "      <td>None</td>\n",
       "      <td>None</td>\n",
       "    </tr>\n",
       "    <tr>\n",
       "      <th>38</th>\n",
       "      <td>step</td>\n",
       "      <td>output</td>\n",
       "      <td>text</td>\n",
       "      <td>text</td>\n",
       "      <td>NO</td>\n",
       "      <td>None</td>\n",
       "      <td>None</td>\n",
       "      <td>None</td>\n",
       "    </tr>\n",
       "    <tr>\n",
       "      <th>39</th>\n",
       "      <td>step</td>\n",
       "      <td>run</td>\n",
       "      <td>text</td>\n",
       "      <td>text</td>\n",
       "      <td>YES</td>\n",
       "      <td>None</td>\n",
       "      <td>None</td>\n",
       "      <td>None</td>\n",
       "    </tr>\n",
       "    <tr>\n",
       "      <th>40</th>\n",
       "      <td>step</td>\n",
       "      <td>shell_command</td>\n",
       "      <td>text</td>\n",
       "      <td>text</td>\n",
       "      <td>YES</td>\n",
       "      <td>None</td>\n",
       "      <td>None</td>\n",
       "      <td>None</td>\n",
       "    </tr>\n",
       "    <tr>\n",
       "      <th>41</th>\n",
       "      <td>step</td>\n",
       "      <td>step_id</td>\n",
       "      <td>uuid</td>\n",
       "      <td>uuid</td>\n",
       "      <td>NO</td>\n",
       "      <td>step_pkey</td>\n",
       "      <td>None</td>\n",
       "      <td>step.step_id</td>\n",
       "    </tr>\n",
       "    <tr>\n",
       "      <th>42</th>\n",
       "      <td>step</td>\n",
       "      <td>updated_on</td>\n",
       "      <td>timestamp without time zone</td>\n",
       "      <td>timestamp</td>\n",
       "      <td>NO</td>\n",
       "      <td>None</td>\n",
       "      <td>None</td>\n",
       "      <td>None</td>\n",
       "    </tr>\n",
       "  </tbody>\n",
       "</table>\n",
       "</div>"
      ],
      "text/plain": [
       "   table_name    column_name                         type    subtype  \\\n",
       "34       step     created_on  timestamp without time zone  timestamp   \n",
       "35       step     depends_on                         uuid       uuid   \n",
       "36       step          input                         text       text   \n",
       "37       step            log                         text       text   \n",
       "38       step         output                         text       text   \n",
       "39       step            run                         text       text   \n",
       "40       step  shell_command                         text       text   \n",
       "41       step        step_id                         uuid       uuid   \n",
       "42       step     updated_on  timestamp without time zone  timestamp   \n",
       "\n",
       "   is_nullable constraint_name containt_type    references  \n",
       "34          NO            None          None          None  \n",
       "35         YES            None          None          None  \n",
       "36         YES            None          None          None  \n",
       "37         YES            None          None          None  \n",
       "38          NO            None          None          None  \n",
       "39         YES            None          None          None  \n",
       "40         YES            None          None          None  \n",
       "41          NO       step_pkey          None  step.step_id  \n",
       "42          NO            None          None          None  "
      ]
     },
     "execution_count": 8,
     "metadata": {},
     "output_type": "execute_result"
    }
   ],
   "source": [
    "dbinfo[dbinfo.table_name == \"step\"]"
   ]
  },
  {
   "cell_type": "code",
   "execution_count": 9,
   "id": "490cc8b8",
   "metadata": {},
   "outputs": [
    {
     "data": {
      "text/html": [
       "<div>\n",
       "<style scoped>\n",
       "    .dataframe tbody tr th:only-of-type {\n",
       "        vertical-align: middle;\n",
       "    }\n",
       "\n",
       "    .dataframe tbody tr th {\n",
       "        vertical-align: top;\n",
       "    }\n",
       "\n",
       "    .dataframe thead th {\n",
       "        text-align: right;\n",
       "    }\n",
       "</style>\n",
       "<table border=\"1\" class=\"dataframe\">\n",
       "  <thead>\n",
       "    <tr style=\"text-align: right;\">\n",
       "      <th></th>\n",
       "      <th>table_name</th>\n",
       "      <th>column_name</th>\n",
       "      <th>type</th>\n",
       "      <th>subtype</th>\n",
       "      <th>is_nullable</th>\n",
       "      <th>constraint_name</th>\n",
       "      <th>containt_type</th>\n",
       "      <th>references</th>\n",
       "    </tr>\n",
       "  </thead>\n",
       "  <tbody>\n",
       "    <tr>\n",
       "      <th>9</th>\n",
       "      <td>event_aggregates</td>\n",
       "      <td>created_on</td>\n",
       "      <td>timestamp without time zone</td>\n",
       "      <td>timestamp</td>\n",
       "      <td>NO</td>\n",
       "      <td>None</td>\n",
       "      <td>None</td>\n",
       "      <td>None</td>\n",
       "    </tr>\n",
       "    <tr>\n",
       "      <th>10</th>\n",
       "      <td>event_aggregates</td>\n",
       "      <td>event_aggregates</td>\n",
       "      <td>jsonb</td>\n",
       "      <td>jsonb</td>\n",
       "      <td>NO</td>\n",
       "      <td>None</td>\n",
       "      <td>None</td>\n",
       "      <td>None</td>\n",
       "    </tr>\n",
       "    <tr>\n",
       "      <th>11</th>\n",
       "      <td>event_aggregates</td>\n",
       "      <td>event_aggregates_id</td>\n",
       "      <td>uuid</td>\n",
       "      <td>uuid</td>\n",
       "      <td>NO</td>\n",
       "      <td>event_aggregates_pkey</td>\n",
       "      <td>None</td>\n",
       "      <td>event_aggregates.event_aggregates_id</td>\n",
       "    </tr>\n",
       "    <tr>\n",
       "      <th>12</th>\n",
       "      <td>event_aggregates</td>\n",
       "      <td>tag_name</td>\n",
       "      <td>text</td>\n",
       "      <td>text</td>\n",
       "      <td>NO</td>\n",
       "      <td>None</td>\n",
       "      <td>None</td>\n",
       "      <td>None</td>\n",
       "    </tr>\n",
       "    <tr>\n",
       "      <th>13</th>\n",
       "      <td>event_aggregates</td>\n",
       "      <td>tag_parent</td>\n",
       "      <td>text</td>\n",
       "      <td>text</td>\n",
       "      <td>NO</td>\n",
       "      <td>None</td>\n",
       "      <td>None</td>\n",
       "      <td>None</td>\n",
       "    </tr>\n",
       "    <tr>\n",
       "      <th>14</th>\n",
       "      <td>event_aggregates</td>\n",
       "      <td>tagged_event</td>\n",
       "      <td>uuid</td>\n",
       "      <td>uuid</td>\n",
       "      <td>NO</td>\n",
       "      <td>None</td>\n",
       "      <td>None</td>\n",
       "      <td>None</td>\n",
       "    </tr>\n",
       "    <tr>\n",
       "      <th>15</th>\n",
       "      <td>event_aggregates</td>\n",
       "      <td>updated_on</td>\n",
       "      <td>timestamp without time zone</td>\n",
       "      <td>timestamp</td>\n",
       "      <td>NO</td>\n",
       "      <td>None</td>\n",
       "      <td>None</td>\n",
       "      <td>None</td>\n",
       "    </tr>\n",
       "  </tbody>\n",
       "</table>\n",
       "</div>"
      ],
      "text/plain": [
       "          table_name          column_name                         type  \\\n",
       "9   event_aggregates           created_on  timestamp without time zone   \n",
       "10  event_aggregates     event_aggregates                        jsonb   \n",
       "11  event_aggregates  event_aggregates_id                         uuid   \n",
       "12  event_aggregates             tag_name                         text   \n",
       "13  event_aggregates           tag_parent                         text   \n",
       "14  event_aggregates         tagged_event                         uuid   \n",
       "15  event_aggregates           updated_on  timestamp without time zone   \n",
       "\n",
       "      subtype is_nullable        constraint_name containt_type  \\\n",
       "9   timestamp          NO                   None          None   \n",
       "10      jsonb          NO                   None          None   \n",
       "11       uuid          NO  event_aggregates_pkey          None   \n",
       "12       text          NO                   None          None   \n",
       "13       text          NO                   None          None   \n",
       "14       uuid          NO                   None          None   \n",
       "15  timestamp          NO                   None          None   \n",
       "\n",
       "                              references  \n",
       "9                                   None  \n",
       "10                                  None  \n",
       "11  event_aggregates.event_aggregates_id  \n",
       "12                                  None  \n",
       "13                                  None  \n",
       "14                                  None  \n",
       "15                                  None  "
      ]
     },
     "execution_count": 9,
     "metadata": {},
     "output_type": "execute_result"
    }
   ],
   "source": [
    "dbinfo[dbinfo.table_name == \"event_aggregates\"]"
   ]
  },
  {
   "cell_type": "code",
   "execution_count": 10,
   "id": "8de66771",
   "metadata": {},
   "outputs": [
    {
     "data": {
      "text/plain": [
       "{'type': 'software',\n",
       " 'id': 1,\n",
       " 'uuid': '1bd9af64-9e07-4508-9e93-01a605a07edd',\n",
       " 'event': 'create',\n",
       " 'data': {'name': 'Gromacs', 'version': '2021.10'},\n",
       " 'timestamp': '2021-10-24T14:16:23.542788',\n",
       " 'alembic_version': ['86c6468a76a8'],\n",
       " 'user_id': 1}"
      ]
     },
     "execution_count": 10,
     "metadata": {},
     "output_type": "execute_result"
    }
   ],
   "source": [
    "event = radifar.create_entry(type=\"software\", data={\"name\": \"Gromacs\", \"version\": \"2021.10\"})\n",
    "event"
   ]
  },
  {
   "cell_type": "code",
   "execution_count": 11,
   "id": "d983b401",
   "metadata": {},
   "outputs": [
    {
     "data": {
      "text/plain": [
       "[{'type': 'software',\n",
       "  'id': 1,\n",
       "  'uuid': '1bd9af64-9e07-4508-9e93-01a605a07edd',\n",
       "  'event': 'create',\n",
       "  'data': {'name': 'Gromacs', 'version': '2021.10'},\n",
       "  'timestamp': '2021-10-24T14:16:23.542788',\n",
       "  'alembic_version': ['86c6468a76a8'],\n",
       "  'user_id': 1}]"
      ]
     },
     "execution_count": 11,
     "metadata": {},
     "output_type": "execute_result"
    }
   ],
   "source": [
    "radifar.view_entries()"
   ]
  },
  {
   "cell_type": "code",
   "execution_count": 12,
   "id": "e6600ac2",
   "metadata": {},
   "outputs": [
    {
     "data": {
      "text/plain": [
       "{'type': 'event_aggregates',\n",
       " 'id': 2,\n",
       " 'uuid': '2c7563b3-7ca8-424f-971e-c0f34af64d48',\n",
       " 'event': 'create',\n",
       " 'data': {'tag_name': 'initial_tag',\n",
       "  'tag_parent': 'None',\n",
       "  'tagged_event': '1bd9af64-9e07-4508-9e93-01a605a07edd',\n",
       "  'event_aggregates': [{'id': 1,\n",
       "    'data': {'name': 'Gromacs', 'version': '2021.10'},\n",
       "    'type': 'software',\n",
       "    'uuid': '1bd9af64-9e07-4508-9e93-01a605a07edd',\n",
       "    'event': 'create',\n",
       "    'user_id': 1,\n",
       "    'timestamp': '2021-10-24T14:16:23.542788',\n",
       "    'alembic_version': ['86c6468a76a8']}]},\n",
       " 'timestamp': '2021-10-24T14:16:37.947216',\n",
       " 'alembic_version': ['86c6468a76a8'],\n",
       " 'user_id': 1}"
      ]
     },
     "execution_count": 12,
     "metadata": {},
     "output_type": "execute_result"
    }
   ],
   "source": [
    "event = radifar.create_entry(\n",
    "    type=\"event_aggregates\", \n",
    "    data={\"tag_name\": \"initial_tag\",\n",
    "          \"tag_parent\": \"None\",\n",
    "          \"tagged_event\": event[\"uuid\"],\n",
    "          \"event_aggregates\": radifar.view_entries()\n",
    "         })\n",
    "event"
   ]
  },
  {
   "cell_type": "code",
   "execution_count": 13,
   "id": "2c604623",
   "metadata": {},
   "outputs": [
    {
     "data": {
      "text/plain": [
       "[{'type': 'software',\n",
       "  'id': 1,\n",
       "  'uuid': '1bd9af64-9e07-4508-9e93-01a605a07edd',\n",
       "  'event': 'create',\n",
       "  'data': {'name': 'Gromacs', 'version': '2021.10'},\n",
       "  'timestamp': '2021-10-24T14:16:23.542788',\n",
       "  'alembic_version': ['86c6468a76a8'],\n",
       "  'user_id': 1},\n",
       " {'type': 'event_aggregates',\n",
       "  'id': 2,\n",
       "  'uuid': '2c7563b3-7ca8-424f-971e-c0f34af64d48',\n",
       "  'event': 'create',\n",
       "  'data': {'tag_name': 'initial_tag',\n",
       "   'tag_parent': 'None',\n",
       "   'tagged_event': '1bd9af64-9e07-4508-9e93-01a605a07edd',\n",
       "   'event_aggregates': [{'id': 1,\n",
       "     'data': {'name': 'Gromacs', 'version': '2021.10'},\n",
       "     'type': 'software',\n",
       "     'uuid': '1bd9af64-9e07-4508-9e93-01a605a07edd',\n",
       "     'event': 'create',\n",
       "     'user_id': 1,\n",
       "     'timestamp': '2021-10-24T14:16:23.542788',\n",
       "     'alembic_version': ['86c6468a76a8']}]},\n",
       "  'timestamp': '2021-10-24T14:16:37.947216',\n",
       "  'alembic_version': ['86c6468a76a8'],\n",
       "  'user_id': 1}]"
      ]
     },
     "execution_count": 13,
     "metadata": {},
     "output_type": "execute_result"
    }
   ],
   "source": [
    "radifar.view_entries()"
   ]
  },
  {
   "cell_type": "code",
   "execution_count": 15,
   "id": "9245c9ce",
   "metadata": {
    "scrolled": true
   },
   "outputs": [
    {
     "data": {
      "text/html": [
       "<div>\n",
       "<style scoped>\n",
       "    .dataframe tbody tr th:only-of-type {\n",
       "        vertical-align: middle;\n",
       "    }\n",
       "\n",
       "    .dataframe tbody tr th {\n",
       "        vertical-align: top;\n",
       "    }\n",
       "\n",
       "    .dataframe thead th {\n",
       "        text-align: right;\n",
       "    }\n",
       "</style>\n",
       "<table border=\"1\" class=\"dataframe\">\n",
       "  <thead>\n",
       "    <tr style=\"text-align: right;\">\n",
       "      <th></th>\n",
       "      <th>event_aggregates_id</th>\n",
       "      <th>created_on</th>\n",
       "      <th>updated_on</th>\n",
       "      <th>tag_name</th>\n",
       "      <th>tag_parent</th>\n",
       "      <th>tagged_event</th>\n",
       "      <th>event_aggregates</th>\n",
       "    </tr>\n",
       "  </thead>\n",
       "  <tbody>\n",
       "    <tr>\n",
       "      <th>0</th>\n",
       "      <td>2c7563b3-7ca8-424f-971e-c0f34af64d48</td>\n",
       "      <td>2021-10-24T14:16:37.947216</td>\n",
       "      <td>2021-10-24T14:16:37.947216</td>\n",
       "      <td>initial_tag</td>\n",
       "      <td>None</td>\n",
       "      <td>1bd9af64-9e07-4508-9e93-01a605a07edd</td>\n",
       "      <td>[{'id': 1, 'data': {'name': 'Gromacs', 'versio...</td>\n",
       "    </tr>\n",
       "  </tbody>\n",
       "</table>\n",
       "</div>"
      ],
      "text/plain": [
       "                    event_aggregates_id                  created_on  \\\n",
       "0  2c7563b3-7ca8-424f-971e-c0f34af64d48  2021-10-24T14:16:37.947216   \n",
       "\n",
       "                   updated_on     tag_name tag_parent  \\\n",
       "0  2021-10-24T14:16:37.947216  initial_tag       None   \n",
       "\n",
       "                           tagged_event  \\\n",
       "0  1bd9af64-9e07-4508-9e93-01a605a07edd   \n",
       "\n",
       "                                    event_aggregates  \n",
       "0  [{'id': 1, 'data': {'name': 'Gromacs', 'versio...  "
      ]
     },
     "execution_count": 15,
     "metadata": {},
     "output_type": "execute_result"
    }
   ],
   "source": [
    "radifar.query_database(types=\"event_aggregates\")"
   ]
  },
  {
   "cell_type": "code",
   "execution_count": 16,
   "id": "3e03016b",
   "metadata": {},
   "outputs": [
    {
     "data": {
      "text/plain": [
       "{'type': 'step',\n",
       " 'id': 3,\n",
       " 'uuid': '372ec800-9468-4b16-a77f-ff41e5a0bec3',\n",
       " 'event': 'create',\n",
       " 'data': {'output': 'ligands/IBP.pdb',\n",
       "  'shell_command': 'python 01_fetch_ligand.py IBP'},\n",
       " 'timestamp': '2021-10-24T14:19:05.079747',\n",
       " 'alembic_version': ['86c6468a76a8'],\n",
       " 'user_id': 1}"
      ]
     },
     "execution_count": 16,
     "metadata": {},
     "output_type": "execute_result"
    }
   ],
   "source": [
    "radifar.create_entry(\n",
    "    type=\"step\",\n",
    "    data={\n",
    "        \"output\": \"ligands/IBP.pdb\",\n",
    "        \"shell_command\": \"python 01_fetch_ligand.py IBP\"\n",
    "    }\n",
    "    )"
   ]
  },
  {
   "cell_type": "code",
   "execution_count": 17,
   "id": "ea8241ac",
   "metadata": {},
   "outputs": [
    {
     "data": {
      "text/plain": [
       "{'type': 'step',\n",
       " 'id': 4,\n",
       " 'uuid': '39be99f9-cee4-4203-a8c5-ef9a91d282c8',\n",
       " 'event': 'create',\n",
       " 'data': {'input': 'ligands/IBP.pdb',\n",
       "  'output': 'ligands/IBP.H.mol2',\n",
       "  'depends_on': '372ec800-9468-4b16-a77f-ff41e5a0bec3',\n",
       "  'shell_command': 'python 02_add_hydrogens.py IBP'},\n",
       " 'timestamp': '2021-10-24T14:19:06.812062',\n",
       " 'alembic_version': ['86c6468a76a8'],\n",
       " 'user_id': 1}"
      ]
     },
     "execution_count": 17,
     "metadata": {},
     "output_type": "execute_result"
    }
   ],
   "source": [
    "event = radifar.create_entry(\n",
    "    type=\"step\",\n",
    "    data={\n",
    "        \"input\": \"ligands/IBP.pdb\",\n",
    "        \"output\": \"ligands/IBP.H.mol2\",\n",
    "        \"shell_command\": \"python 02_add_hydrogens.py IBP\",\n",
    "        \"depends_on\": radifar.view_entries()[2]['uuid']\n",
    "    })\n",
    "\n",
    "event"
   ]
  },
  {
   "cell_type": "code",
   "execution_count": 18,
   "id": "c1417a39",
   "metadata": {},
   "outputs": [
    {
     "data": {
      "text/plain": [
       "{'type': 'step',\n",
       " 'id': 5,\n",
       " 'uuid': 'f2e2731d-7976-4ae6-b572-c7398b69fdf5',\n",
       " 'event': 'create',\n",
       " 'data': {'input': 'ligands/IBP.H.mol2',\n",
       "  'output': 'ligands/IBP.H.min.pdb',\n",
       "  'depends_on': '39be99f9-cee4-4203-a8c5-ef9a91d282c8',\n",
       "  'shell_command': 'python 02_energy_minimize.py IBP'},\n",
       " 'timestamp': '2021-10-24T14:19:08.423345',\n",
       " 'alembic_version': ['86c6468a76a8'],\n",
       " 'user_id': 1}"
      ]
     },
     "execution_count": 18,
     "metadata": {},
     "output_type": "execute_result"
    }
   ],
   "source": [
    "event = radifar.create_entry(\n",
    "    type=\"step\",\n",
    "    data={\n",
    "        \"input\": \"ligands/IBP.H.mol2\",\n",
    "        \"output\": \"ligands/IBP.H.min.pdb\",\n",
    "        \"shell_command\": \"python 02_energy_minimize.py IBP\",\n",
    "        \"depends_on\": event['uuid']\n",
    "    })\n",
    "\n",
    "event"
   ]
  },
  {
   "cell_type": "code",
   "execution_count": 19,
   "id": "954e649a",
   "metadata": {},
   "outputs": [
    {
     "data": {
      "text/plain": [
       "{'type': 'step',\n",
       " 'id': 6,\n",
       " 'uuid': 'dabac163-45ce-4933-bf7e-a66c2b622161',\n",
       " 'event': 'create',\n",
       " 'data': {'input': 'ligands/IBP.min.pdb',\n",
       "  'output': 'ligands/IBP.params.gro',\n",
       "  'depends_on': 'f2e2731d-7976-4ae6-b572-c7398b69fdf5',\n",
       "  'shell_command': 'python 04_generate_parameter.py IBP'},\n",
       " 'timestamp': '2021-10-24T14:19:10.049372',\n",
       " 'alembic_version': ['86c6468a76a8'],\n",
       " 'user_id': 1}"
      ]
     },
     "execution_count": 19,
     "metadata": {},
     "output_type": "execute_result"
    }
   ],
   "source": [
    "event = radifar.create_entry(\n",
    "    type=\"step\",\n",
    "    data={\n",
    "        \"input\": \"ligands/IBP.min.pdb\",\n",
    "        \"output\": \"ligands/IBP.params.gro\",\n",
    "        \"shell_command\": \"python 04_generate_parameter.py IBP\",\n",
    "        \"depends_on\": event['uuid']\n",
    "    })\n",
    "\n",
    "event"
   ]
  },
  {
   "cell_type": "code",
   "execution_count": 20,
   "id": "30c1aeaa",
   "metadata": {},
   "outputs": [
    {
     "data": {
      "text/plain": [
       "[{'type': 'software',\n",
       "  'id': 1,\n",
       "  'uuid': '1bd9af64-9e07-4508-9e93-01a605a07edd',\n",
       "  'event': 'create',\n",
       "  'data': {'name': 'Gromacs', 'version': '2021.10'},\n",
       "  'timestamp': '2021-10-24T14:16:23.542788',\n",
       "  'alembic_version': ['86c6468a76a8'],\n",
       "  'user_id': 1},\n",
       " {'type': 'event_aggregates',\n",
       "  'id': 2,\n",
       "  'uuid': '2c7563b3-7ca8-424f-971e-c0f34af64d48',\n",
       "  'event': 'create',\n",
       "  'data': {'tag_name': 'initial_tag',\n",
       "   'tag_parent': 'None',\n",
       "   'tagged_event': '1bd9af64-9e07-4508-9e93-01a605a07edd',\n",
       "   'event_aggregates': [{'id': 1,\n",
       "     'data': {'name': 'Gromacs', 'version': '2021.10'},\n",
       "     'type': 'software',\n",
       "     'uuid': '1bd9af64-9e07-4508-9e93-01a605a07edd',\n",
       "     'event': 'create',\n",
       "     'user_id': 1,\n",
       "     'timestamp': '2021-10-24T14:16:23.542788',\n",
       "     'alembic_version': ['86c6468a76a8']}]},\n",
       "  'timestamp': '2021-10-24T14:16:37.947216',\n",
       "  'alembic_version': ['86c6468a76a8'],\n",
       "  'user_id': 1},\n",
       " {'type': 'step',\n",
       "  'id': 3,\n",
       "  'uuid': '372ec800-9468-4b16-a77f-ff41e5a0bec3',\n",
       "  'event': 'create',\n",
       "  'data': {'output': 'ligands/IBP.pdb',\n",
       "   'shell_command': 'python 01_fetch_ligand.py IBP'},\n",
       "  'timestamp': '2021-10-24T14:19:05.079747',\n",
       "  'alembic_version': ['86c6468a76a8'],\n",
       "  'user_id': 1},\n",
       " {'type': 'step',\n",
       "  'id': 4,\n",
       "  'uuid': '39be99f9-cee4-4203-a8c5-ef9a91d282c8',\n",
       "  'event': 'create',\n",
       "  'data': {'input': 'ligands/IBP.pdb',\n",
       "   'output': 'ligands/IBP.H.mol2',\n",
       "   'depends_on': '372ec800-9468-4b16-a77f-ff41e5a0bec3',\n",
       "   'shell_command': 'python 02_add_hydrogens.py IBP'},\n",
       "  'timestamp': '2021-10-24T14:19:06.812062',\n",
       "  'alembic_version': ['86c6468a76a8'],\n",
       "  'user_id': 1},\n",
       " {'type': 'step',\n",
       "  'id': 5,\n",
       "  'uuid': 'f2e2731d-7976-4ae6-b572-c7398b69fdf5',\n",
       "  'event': 'create',\n",
       "  'data': {'input': 'ligands/IBP.H.mol2',\n",
       "   'output': 'ligands/IBP.H.min.pdb',\n",
       "   'depends_on': '39be99f9-cee4-4203-a8c5-ef9a91d282c8',\n",
       "   'shell_command': 'python 02_energy_minimize.py IBP'},\n",
       "  'timestamp': '2021-10-24T14:19:08.423345',\n",
       "  'alembic_version': ['86c6468a76a8'],\n",
       "  'user_id': 1},\n",
       " {'type': 'step',\n",
       "  'id': 6,\n",
       "  'uuid': 'dabac163-45ce-4933-bf7e-a66c2b622161',\n",
       "  'event': 'create',\n",
       "  'data': {'input': 'ligands/IBP.min.pdb',\n",
       "   'output': 'ligands/IBP.params.gro',\n",
       "   'depends_on': 'f2e2731d-7976-4ae6-b572-c7398b69fdf5',\n",
       "   'shell_command': 'python 04_generate_parameter.py IBP'},\n",
       "  'timestamp': '2021-10-24T14:19:10.049372',\n",
       "  'alembic_version': ['86c6468a76a8'],\n",
       "  'user_id': 1}]"
      ]
     },
     "execution_count": 20,
     "metadata": {},
     "output_type": "execute_result"
    }
   ],
   "source": [
    "radifar.view_entries()"
   ]
  },
  {
   "cell_type": "code",
   "execution_count": 21,
   "id": "cf949a1f",
   "metadata": {},
   "outputs": [
    {
     "data": {
      "text/plain": [
       "{'type': 'event_aggregates',\n",
       " 'id': 7,\n",
       " 'uuid': 'cc54a254-9fff-4f48-91b8-943d623bd838',\n",
       " 'event': 'create',\n",
       " 'data': {'tag_name': 'first_workflow',\n",
       "  'tag_parent': 'initial_tag',\n",
       "  'tagged_event': 'dabac163-45ce-4933-bf7e-a66c2b622161',\n",
       "  'event_aggregates': [{'id': 3,\n",
       "    'data': {'output': 'ligands/IBP.pdb',\n",
       "     'shell_command': 'python 01_fetch_ligand.py IBP'},\n",
       "    'type': 'step',\n",
       "    'uuid': '372ec800-9468-4b16-a77f-ff41e5a0bec3',\n",
       "    'event': 'create',\n",
       "    'user_id': 1,\n",
       "    'timestamp': '2021-10-24T14:19:05.079747',\n",
       "    'alembic_version': ['86c6468a76a8']},\n",
       "   {'id': 4,\n",
       "    'data': {'input': 'ligands/IBP.pdb',\n",
       "     'output': 'ligands/IBP.H.mol2',\n",
       "     'depends_on': '372ec800-9468-4b16-a77f-ff41e5a0bec3',\n",
       "     'shell_command': 'python 02_add_hydrogens.py IBP'},\n",
       "    'type': 'step',\n",
       "    'uuid': '39be99f9-cee4-4203-a8c5-ef9a91d282c8',\n",
       "    'event': 'create',\n",
       "    'user_id': 1,\n",
       "    'timestamp': '2021-10-24T14:19:06.812062',\n",
       "    'alembic_version': ['86c6468a76a8']},\n",
       "   {'id': 5,\n",
       "    'data': {'input': 'ligands/IBP.H.mol2',\n",
       "     'output': 'ligands/IBP.H.min.pdb',\n",
       "     'depends_on': '39be99f9-cee4-4203-a8c5-ef9a91d282c8',\n",
       "     'shell_command': 'python 02_energy_minimize.py IBP'},\n",
       "    'type': 'step',\n",
       "    'uuid': 'f2e2731d-7976-4ae6-b572-c7398b69fdf5',\n",
       "    'event': 'create',\n",
       "    'user_id': 1,\n",
       "    'timestamp': '2021-10-24T14:19:08.423345',\n",
       "    'alembic_version': ['86c6468a76a8']},\n",
       "   {'id': 6,\n",
       "    'data': {'input': 'ligands/IBP.min.pdb',\n",
       "     'output': 'ligands/IBP.params.gro',\n",
       "     'depends_on': 'f2e2731d-7976-4ae6-b572-c7398b69fdf5',\n",
       "     'shell_command': 'python 04_generate_parameter.py IBP'},\n",
       "    'type': 'step',\n",
       "    'uuid': 'dabac163-45ce-4933-bf7e-a66c2b622161',\n",
       "    'event': 'create',\n",
       "    'user_id': 1,\n",
       "    'timestamp': '2021-10-24T14:19:10.049372',\n",
       "    'alembic_version': ['86c6468a76a8']}]},\n",
       " 'timestamp': '2021-10-24T14:19:16.105576',\n",
       " 'alembic_version': ['86c6468a76a8'],\n",
       " 'user_id': 1}"
      ]
     },
     "execution_count": 21,
     "metadata": {},
     "output_type": "execute_result"
    }
   ],
   "source": [
    "entries = radifar.view_entries()\n",
    "reverse_entries = entries[::-1]\n",
    "\n",
    "last_tag = next(event for event in reverse_entries if event[\"type\"] == \"event_aggregates\")\n",
    "\n",
    "first_workflow_aggregates = entries[last_tag[\"id\"]:]\n",
    "\n",
    "event = radifar.create_entry(\n",
    "    type=\"event_aggregates\", \n",
    "    data={\"tag_name\": \"first_workflow\",\n",
    "          \"tag_parent\": \"initial_tag\",\n",
    "          \"tagged_event\": event[\"uuid\"],\n",
    "          \"event_aggregates\": first_workflow_aggregates\n",
    "         })\n",
    "event"
   ]
  },
  {
   "cell_type": "code",
   "execution_count": 22,
   "id": "8b9ca6d0",
   "metadata": {},
   "outputs": [
    {
     "data": {
      "text/plain": [
       "[{'type': 'software',\n",
       "  'id': 1,\n",
       "  'uuid': '1bd9af64-9e07-4508-9e93-01a605a07edd',\n",
       "  'event': 'create',\n",
       "  'data': {'name': 'Gromacs', 'version': '2021.10'},\n",
       "  'timestamp': '2021-10-24T14:16:23.542788',\n",
       "  'alembic_version': ['86c6468a76a8'],\n",
       "  'user_id': 1},\n",
       " {'type': 'event_aggregates',\n",
       "  'id': 2,\n",
       "  'uuid': '2c7563b3-7ca8-424f-971e-c0f34af64d48',\n",
       "  'event': 'create',\n",
       "  'data': {'tag_name': 'initial_tag',\n",
       "   'tag_parent': 'None',\n",
       "   'tagged_event': '1bd9af64-9e07-4508-9e93-01a605a07edd',\n",
       "   'event_aggregates': [{'id': 1,\n",
       "     'data': {'name': 'Gromacs', 'version': '2021.10'},\n",
       "     'type': 'software',\n",
       "     'uuid': '1bd9af64-9e07-4508-9e93-01a605a07edd',\n",
       "     'event': 'create',\n",
       "     'user_id': 1,\n",
       "     'timestamp': '2021-10-24T14:16:23.542788',\n",
       "     'alembic_version': ['86c6468a76a8']}]},\n",
       "  'timestamp': '2021-10-24T14:16:37.947216',\n",
       "  'alembic_version': ['86c6468a76a8'],\n",
       "  'user_id': 1},\n",
       " {'type': 'step',\n",
       "  'id': 3,\n",
       "  'uuid': '372ec800-9468-4b16-a77f-ff41e5a0bec3',\n",
       "  'event': 'create',\n",
       "  'data': {'output': 'ligands/IBP.pdb',\n",
       "   'shell_command': 'python 01_fetch_ligand.py IBP'},\n",
       "  'timestamp': '2021-10-24T14:19:05.079747',\n",
       "  'alembic_version': ['86c6468a76a8'],\n",
       "  'user_id': 1},\n",
       " {'type': 'step',\n",
       "  'id': 4,\n",
       "  'uuid': '39be99f9-cee4-4203-a8c5-ef9a91d282c8',\n",
       "  'event': 'create',\n",
       "  'data': {'input': 'ligands/IBP.pdb',\n",
       "   'output': 'ligands/IBP.H.mol2',\n",
       "   'depends_on': '372ec800-9468-4b16-a77f-ff41e5a0bec3',\n",
       "   'shell_command': 'python 02_add_hydrogens.py IBP'},\n",
       "  'timestamp': '2021-10-24T14:19:06.812062',\n",
       "  'alembic_version': ['86c6468a76a8'],\n",
       "  'user_id': 1},\n",
       " {'type': 'step',\n",
       "  'id': 5,\n",
       "  'uuid': 'f2e2731d-7976-4ae6-b572-c7398b69fdf5',\n",
       "  'event': 'create',\n",
       "  'data': {'input': 'ligands/IBP.H.mol2',\n",
       "   'output': 'ligands/IBP.H.min.pdb',\n",
       "   'depends_on': '39be99f9-cee4-4203-a8c5-ef9a91d282c8',\n",
       "   'shell_command': 'python 02_energy_minimize.py IBP'},\n",
       "  'timestamp': '2021-10-24T14:19:08.423345',\n",
       "  'alembic_version': ['86c6468a76a8'],\n",
       "  'user_id': 1},\n",
       " {'type': 'step',\n",
       "  'id': 6,\n",
       "  'uuid': 'dabac163-45ce-4933-bf7e-a66c2b622161',\n",
       "  'event': 'create',\n",
       "  'data': {'input': 'ligands/IBP.min.pdb',\n",
       "   'output': 'ligands/IBP.params.gro',\n",
       "   'depends_on': 'f2e2731d-7976-4ae6-b572-c7398b69fdf5',\n",
       "   'shell_command': 'python 04_generate_parameter.py IBP'},\n",
       "  'timestamp': '2021-10-24T14:19:10.049372',\n",
       "  'alembic_version': ['86c6468a76a8'],\n",
       "  'user_id': 1},\n",
       " {'type': 'event_aggregates',\n",
       "  'id': 7,\n",
       "  'uuid': 'cc54a254-9fff-4f48-91b8-943d623bd838',\n",
       "  'event': 'create',\n",
       "  'data': {'tag_name': 'first_workflow',\n",
       "   'tag_parent': 'initial_tag',\n",
       "   'tagged_event': 'dabac163-45ce-4933-bf7e-a66c2b622161',\n",
       "   'event_aggregates': [{'id': 3,\n",
       "     'data': {'output': 'ligands/IBP.pdb',\n",
       "      'shell_command': 'python 01_fetch_ligand.py IBP'},\n",
       "     'type': 'step',\n",
       "     'uuid': '372ec800-9468-4b16-a77f-ff41e5a0bec3',\n",
       "     'event': 'create',\n",
       "     'user_id': 1,\n",
       "     'timestamp': '2021-10-24T14:19:05.079747',\n",
       "     'alembic_version': ['86c6468a76a8']},\n",
       "    {'id': 4,\n",
       "     'data': {'input': 'ligands/IBP.pdb',\n",
       "      'output': 'ligands/IBP.H.mol2',\n",
       "      'depends_on': '372ec800-9468-4b16-a77f-ff41e5a0bec3',\n",
       "      'shell_command': 'python 02_add_hydrogens.py IBP'},\n",
       "     'type': 'step',\n",
       "     'uuid': '39be99f9-cee4-4203-a8c5-ef9a91d282c8',\n",
       "     'event': 'create',\n",
       "     'user_id': 1,\n",
       "     'timestamp': '2021-10-24T14:19:06.812062',\n",
       "     'alembic_version': ['86c6468a76a8']},\n",
       "    {'id': 5,\n",
       "     'data': {'input': 'ligands/IBP.H.mol2',\n",
       "      'output': 'ligands/IBP.H.min.pdb',\n",
       "      'depends_on': '39be99f9-cee4-4203-a8c5-ef9a91d282c8',\n",
       "      'shell_command': 'python 02_energy_minimize.py IBP'},\n",
       "     'type': 'step',\n",
       "     'uuid': 'f2e2731d-7976-4ae6-b572-c7398b69fdf5',\n",
       "     'event': 'create',\n",
       "     'user_id': 1,\n",
       "     'timestamp': '2021-10-24T14:19:08.423345',\n",
       "     'alembic_version': ['86c6468a76a8']},\n",
       "    {'id': 6,\n",
       "     'data': {'input': 'ligands/IBP.min.pdb',\n",
       "      'output': 'ligands/IBP.params.gro',\n",
       "      'depends_on': 'f2e2731d-7976-4ae6-b572-c7398b69fdf5',\n",
       "      'shell_command': 'python 04_generate_parameter.py IBP'},\n",
       "     'type': 'step',\n",
       "     'uuid': 'dabac163-45ce-4933-bf7e-a66c2b622161',\n",
       "     'event': 'create',\n",
       "     'user_id': 1,\n",
       "     'timestamp': '2021-10-24T14:19:10.049372',\n",
       "     'alembic_version': ['86c6468a76a8']}]},\n",
       "  'timestamp': '2021-10-24T14:19:16.105576',\n",
       "  'alembic_version': ['86c6468a76a8'],\n",
       "  'user_id': 1},\n",
       " {'type': 'software',\n",
       "  'id': 8,\n",
       "  'uuid': '1bd9af64-9e07-4508-9e93-01a605a07edd',\n",
       "  'event': 'delete',\n",
       "  'data': {},\n",
       "  'timestamp': '2021-10-24T14:24:28.350270',\n",
       "  'alembic_version': ['86c6468a76a8'],\n",
       "  'user_id': 1},\n",
       " {'type': 'step',\n",
       "  'id': 9,\n",
       "  'uuid': '372ec800-9468-4b16-a77f-ff41e5a0bec3',\n",
       "  'event': 'delete',\n",
       "  'data': {},\n",
       "  'timestamp': '2021-10-24T14:24:28.387463',\n",
       "  'alembic_version': ['86c6468a76a8'],\n",
       "  'user_id': 1},\n",
       " {'type': 'step',\n",
       "  'id': 10,\n",
       "  'uuid': '39be99f9-cee4-4203-a8c5-ef9a91d282c8',\n",
       "  'event': 'delete',\n",
       "  'data': {},\n",
       "  'timestamp': '2021-10-24T14:24:28.444903',\n",
       "  'alembic_version': ['86c6468a76a8'],\n",
       "  'user_id': 1},\n",
       " {'type': 'step',\n",
       "  'id': 11,\n",
       "  'uuid': 'f2e2731d-7976-4ae6-b572-c7398b69fdf5',\n",
       "  'event': 'delete',\n",
       "  'data': {},\n",
       "  'timestamp': '2021-10-24T14:24:28.466686',\n",
       "  'alembic_version': ['86c6468a76a8'],\n",
       "  'user_id': 1},\n",
       " {'type': 'step',\n",
       "  'id': 12,\n",
       "  'uuid': 'dabac163-45ce-4933-bf7e-a66c2b622161',\n",
       "  'event': 'delete',\n",
       "  'data': {},\n",
       "  'timestamp': '2021-10-24T14:24:28.494434',\n",
       "  'alembic_version': ['86c6468a76a8'],\n",
       "  'user_id': 1}]"
      ]
     },
     "execution_count": 22,
     "metadata": {},
     "output_type": "execute_result"
    }
   ],
   "source": [
    "for entry in radifar.view_entries():\n",
    "    if entry[\"type\"] == \"software\":\n",
    "        radifar.delete_entry(type=\"software\", uuid=entry['uuid'])\n",
    "    elif entry[\"type\"] == \"step\":\n",
    "        radifar.delete_entry(type=\"step\", uuid=entry['uuid'])\n",
    "\n",
    "radifar.view_entries()"
   ]
  },
  {
   "cell_type": "code",
   "execution_count": 24,
   "id": "02ca1d11",
   "metadata": {},
   "outputs": [
    {
     "data": {
      "text/html": [
       "<div>\n",
       "<style scoped>\n",
       "    .dataframe tbody tr th:only-of-type {\n",
       "        vertical-align: middle;\n",
       "    }\n",
       "\n",
       "    .dataframe tbody tr th {\n",
       "        vertical-align: top;\n",
       "    }\n",
       "\n",
       "    .dataframe thead th {\n",
       "        text-align: right;\n",
       "    }\n",
       "</style>\n",
       "<table border=\"1\" class=\"dataframe\">\n",
       "  <thead>\n",
       "    <tr style=\"text-align: right;\">\n",
       "      <th></th>\n",
       "    </tr>\n",
       "  </thead>\n",
       "  <tbody>\n",
       "  </tbody>\n",
       "</table>\n",
       "</div>"
      ],
      "text/plain": [
       "Empty DataFrame\n",
       "Columns: []\n",
       "Index: []"
      ]
     },
     "execution_count": 24,
     "metadata": {},
     "output_type": "execute_result"
    }
   ],
   "source": [
    "radifar.query_database(types=\"software\")"
   ]
  },
  {
   "cell_type": "code",
   "execution_count": 25,
   "id": "d53e2216",
   "metadata": {},
   "outputs": [
    {
     "data": {
      "text/html": [
       "<div>\n",
       "<style scoped>\n",
       "    .dataframe tbody tr th:only-of-type {\n",
       "        vertical-align: middle;\n",
       "    }\n",
       "\n",
       "    .dataframe tbody tr th {\n",
       "        vertical-align: top;\n",
       "    }\n",
       "\n",
       "    .dataframe thead th {\n",
       "        text-align: right;\n",
       "    }\n",
       "</style>\n",
       "<table border=\"1\" class=\"dataframe\">\n",
       "  <thead>\n",
       "    <tr style=\"text-align: right;\">\n",
       "      <th></th>\n",
       "    </tr>\n",
       "  </thead>\n",
       "  <tbody>\n",
       "  </tbody>\n",
       "</table>\n",
       "</div>"
      ],
      "text/plain": [
       "Empty DataFrame\n",
       "Columns: []\n",
       "Index: []"
      ]
     },
     "execution_count": 25,
     "metadata": {},
     "output_type": "execute_result"
    }
   ],
   "source": [
    "radifar.query_database(types=\"step\")"
   ]
  },
  {
   "cell_type": "code",
   "execution_count": 49,
   "id": "70dce12c",
   "metadata": {},
   "outputs": [],
   "source": [
    "def go_to_tag(name: str):\n",
    "    tag = radifar.query_database(\n",
    "        types=\"event_aggregates\",\n",
    "        filters={\n",
    "            'type': \"event_aggregates.tag_name\",\n",
    "            \"op\": \"==\",\n",
    "            \"value\": name\n",
    "    })\n",
    "    \n",
    "    for event in tag.event_aggregates[0]:\n",
    "        if event[\"event\"] == \"create\":\n",
    "            radifar.create_entry(type=event[\"type\"], data=event[\"data\"])"
   ]
  },
  {
   "cell_type": "code",
   "execution_count": 50,
   "id": "c560a796",
   "metadata": {},
   "outputs": [],
   "source": [
    "go_to_tag(\"initial_tag\")"
   ]
  },
  {
   "cell_type": "code",
   "execution_count": 51,
   "id": "4beaabef",
   "metadata": {},
   "outputs": [
    {
     "data": {
      "text/html": [
       "<div>\n",
       "<style scoped>\n",
       "    .dataframe tbody tr th:only-of-type {\n",
       "        vertical-align: middle;\n",
       "    }\n",
       "\n",
       "    .dataframe tbody tr th {\n",
       "        vertical-align: top;\n",
       "    }\n",
       "\n",
       "    .dataframe thead th {\n",
       "        text-align: right;\n",
       "    }\n",
       "</style>\n",
       "<table border=\"1\" class=\"dataframe\">\n",
       "  <thead>\n",
       "    <tr style=\"text-align: right;\">\n",
       "      <th></th>\n",
       "      <th>software_id</th>\n",
       "      <th>created_on</th>\n",
       "      <th>updated_on</th>\n",
       "      <th>name</th>\n",
       "      <th>version</th>\n",
       "    </tr>\n",
       "  </thead>\n",
       "  <tbody>\n",
       "    <tr>\n",
       "      <th>0</th>\n",
       "      <td>26e8b807-2c9c-4f51-b6ed-dfee87edf32c</td>\n",
       "      <td>2021-10-24T14:49:09.308424</td>\n",
       "      <td>2021-10-24T14:49:09.308424</td>\n",
       "      <td>Gromacs</td>\n",
       "      <td>2021.10</td>\n",
       "    </tr>\n",
       "  </tbody>\n",
       "</table>\n",
       "</div>"
      ],
      "text/plain": [
       "                            software_id                  created_on  \\\n",
       "0  26e8b807-2c9c-4f51-b6ed-dfee87edf32c  2021-10-24T14:49:09.308424   \n",
       "\n",
       "                   updated_on     name  version  \n",
       "0  2021-10-24T14:49:09.308424  Gromacs  2021.10  "
      ]
     },
     "execution_count": 51,
     "metadata": {},
     "output_type": "execute_result"
    }
   ],
   "source": [
    "radifar.query_database(types=\"software\")"
   ]
  },
  {
   "cell_type": "code",
   "execution_count": 52,
   "id": "11cd3935",
   "metadata": {},
   "outputs": [
    {
     "data": {
      "text/html": [
       "<div>\n",
       "<style scoped>\n",
       "    .dataframe tbody tr th:only-of-type {\n",
       "        vertical-align: middle;\n",
       "    }\n",
       "\n",
       "    .dataframe tbody tr th {\n",
       "        vertical-align: top;\n",
       "    }\n",
       "\n",
       "    .dataframe thead th {\n",
       "        text-align: right;\n",
       "    }\n",
       "</style>\n",
       "<table border=\"1\" class=\"dataframe\">\n",
       "  <thead>\n",
       "    <tr style=\"text-align: right;\">\n",
       "      <th></th>\n",
       "    </tr>\n",
       "  </thead>\n",
       "  <tbody>\n",
       "  </tbody>\n",
       "</table>\n",
       "</div>"
      ],
      "text/plain": [
       "Empty DataFrame\n",
       "Columns: []\n",
       "Index: []"
      ]
     },
     "execution_count": 52,
     "metadata": {},
     "output_type": "execute_result"
    }
   ],
   "source": [
    "radifar.query_database(types=\"step\")"
   ]
  },
  {
   "cell_type": "code",
   "execution_count": 53,
   "id": "734c0c57",
   "metadata": {},
   "outputs": [],
   "source": [
    "go_to_tag(\"first_workflow\")"
   ]
  },
  {
   "cell_type": "code",
   "execution_count": 54,
   "id": "931bff4f",
   "metadata": {},
   "outputs": [
    {
     "data": {
      "text/html": [
       "<div>\n",
       "<style scoped>\n",
       "    .dataframe tbody tr th:only-of-type {\n",
       "        vertical-align: middle;\n",
       "    }\n",
       "\n",
       "    .dataframe tbody tr th {\n",
       "        vertical-align: top;\n",
       "    }\n",
       "\n",
       "    .dataframe thead th {\n",
       "        text-align: right;\n",
       "    }\n",
       "</style>\n",
       "<table border=\"1\" class=\"dataframe\">\n",
       "  <thead>\n",
       "    <tr style=\"text-align: right;\">\n",
       "      <th></th>\n",
       "      <th>software_id</th>\n",
       "      <th>created_on</th>\n",
       "      <th>updated_on</th>\n",
       "      <th>name</th>\n",
       "      <th>version</th>\n",
       "    </tr>\n",
       "  </thead>\n",
       "  <tbody>\n",
       "    <tr>\n",
       "      <th>0</th>\n",
       "      <td>26e8b807-2c9c-4f51-b6ed-dfee87edf32c</td>\n",
       "      <td>2021-10-24T14:49:09.308424</td>\n",
       "      <td>2021-10-24T14:49:09.308424</td>\n",
       "      <td>Gromacs</td>\n",
       "      <td>2021.10</td>\n",
       "    </tr>\n",
       "  </tbody>\n",
       "</table>\n",
       "</div>"
      ],
      "text/plain": [
       "                            software_id                  created_on  \\\n",
       "0  26e8b807-2c9c-4f51-b6ed-dfee87edf32c  2021-10-24T14:49:09.308424   \n",
       "\n",
       "                   updated_on     name  version  \n",
       "0  2021-10-24T14:49:09.308424  Gromacs  2021.10  "
      ]
     },
     "execution_count": 54,
     "metadata": {},
     "output_type": "execute_result"
    }
   ],
   "source": [
    "radifar.query_database(types=\"software\")"
   ]
  },
  {
   "cell_type": "code",
   "execution_count": 56,
   "id": "ef16cb45",
   "metadata": {},
   "outputs": [
    {
     "data": {
      "text/html": [
       "<div>\n",
       "<style scoped>\n",
       "    .dataframe tbody tr th:only-of-type {\n",
       "        vertical-align: middle;\n",
       "    }\n",
       "\n",
       "    .dataframe tbody tr th {\n",
       "        vertical-align: top;\n",
       "    }\n",
       "\n",
       "    .dataframe thead th {\n",
       "        text-align: right;\n",
       "    }\n",
       "</style>\n",
       "<table border=\"1\" class=\"dataframe\">\n",
       "  <thead>\n",
       "    <tr style=\"text-align: right;\">\n",
       "      <th></th>\n",
       "      <th>step_id</th>\n",
       "      <th>created_on</th>\n",
       "      <th>updated_on</th>\n",
       "      <th>output</th>\n",
       "      <th>shell_command</th>\n",
       "      <th>input</th>\n",
       "      <th>depends_on</th>\n",
       "    </tr>\n",
       "  </thead>\n",
       "  <tbody>\n",
       "    <tr>\n",
       "      <th>0</th>\n",
       "      <td>9acb51bc-e44b-416f-a166-1bbcf8b1ca69</td>\n",
       "      <td>2021-10-24T14:50:15.988173</td>\n",
       "      <td>2021-10-24T14:50:15.988173</td>\n",
       "      <td>ligands/IBP.pdb</td>\n",
       "      <td>python 01_fetch_ligand.py IBP</td>\n",
       "      <td>None</td>\n",
       "      <td>None</td>\n",
       "    </tr>\n",
       "    <tr>\n",
       "      <th>1</th>\n",
       "      <td>9f639412-7acb-4510-b7af-56d6cfd311aa</td>\n",
       "      <td>2021-10-24T14:50:16.032053</td>\n",
       "      <td>2021-10-24T14:50:16.032053</td>\n",
       "      <td>ligands/IBP.H.mol2</td>\n",
       "      <td>python 02_add_hydrogens.py IBP</td>\n",
       "      <td>ligands/IBP.pdb</td>\n",
       "      <td>372ec800-9468-4b16-a77f-ff41e5a0bec3</td>\n",
       "    </tr>\n",
       "    <tr>\n",
       "      <th>2</th>\n",
       "      <td>9dd60131-bdaf-41e7-8740-1271a8537b55</td>\n",
       "      <td>2021-10-24T14:50:16.086936</td>\n",
       "      <td>2021-10-24T14:50:16.086936</td>\n",
       "      <td>ligands/IBP.H.min.pdb</td>\n",
       "      <td>python 02_energy_minimize.py IBP</td>\n",
       "      <td>ligands/IBP.H.mol2</td>\n",
       "      <td>39be99f9-cee4-4203-a8c5-ef9a91d282c8</td>\n",
       "    </tr>\n",
       "    <tr>\n",
       "      <th>3</th>\n",
       "      <td>651f22ba-96fb-4f2a-b4d6-20427672cdfc</td>\n",
       "      <td>2021-10-24T14:50:16.112338</td>\n",
       "      <td>2021-10-24T14:50:16.112338</td>\n",
       "      <td>ligands/IBP.params.gro</td>\n",
       "      <td>python 04_generate_parameter.py IBP</td>\n",
       "      <td>ligands/IBP.min.pdb</td>\n",
       "      <td>f2e2731d-7976-4ae6-b572-c7398b69fdf5</td>\n",
       "    </tr>\n",
       "  </tbody>\n",
       "</table>\n",
       "</div>"
      ],
      "text/plain": [
       "                                step_id                  created_on  \\\n",
       "0  9acb51bc-e44b-416f-a166-1bbcf8b1ca69  2021-10-24T14:50:15.988173   \n",
       "1  9f639412-7acb-4510-b7af-56d6cfd311aa  2021-10-24T14:50:16.032053   \n",
       "2  9dd60131-bdaf-41e7-8740-1271a8537b55  2021-10-24T14:50:16.086936   \n",
       "3  651f22ba-96fb-4f2a-b4d6-20427672cdfc  2021-10-24T14:50:16.112338   \n",
       "\n",
       "                   updated_on                  output  \\\n",
       "0  2021-10-24T14:50:15.988173         ligands/IBP.pdb   \n",
       "1  2021-10-24T14:50:16.032053      ligands/IBP.H.mol2   \n",
       "2  2021-10-24T14:50:16.086936   ligands/IBP.H.min.pdb   \n",
       "3  2021-10-24T14:50:16.112338  ligands/IBP.params.gro   \n",
       "\n",
       "                         shell_command                input  \\\n",
       "0        python 01_fetch_ligand.py IBP                 None   \n",
       "1       python 02_add_hydrogens.py IBP      ligands/IBP.pdb   \n",
       "2     python 02_energy_minimize.py IBP   ligands/IBP.H.mol2   \n",
       "3  python 04_generate_parameter.py IBP  ligands/IBP.min.pdb   \n",
       "\n",
       "                             depends_on  \n",
       "0                                  None  \n",
       "1  372ec800-9468-4b16-a77f-ff41e5a0bec3  \n",
       "2  39be99f9-cee4-4203-a8c5-ef9a91d282c8  \n",
       "3  f2e2731d-7976-4ae6-b572-c7398b69fdf5  "
      ]
     },
     "execution_count": 56,
     "metadata": {},
     "output_type": "execute_result"
    }
   ],
   "source": [
    "radifar.query_database(types=\"step\")"
   ]
  },
  {
   "cell_type": "code",
   "execution_count": null,
   "id": "0da08bba",
   "metadata": {},
   "outputs": [],
   "source": []
  }
 ],
 "metadata": {
  "kernelspec": {
   "display_name": "Python 3 (ipykernel)",
   "language": "python",
   "name": "python3"
  },
  "language_info": {
   "codemirror_mode": {
    "name": "ipython",
    "version": 3
   },
   "file_extension": ".py",
   "mimetype": "text/x-python",
   "name": "python",
   "nbconvert_exporter": "python",
   "pygments_lexer": "ipython3",
   "version": "3.9.7"
  }
 },
 "nbformat": 4,
 "nbformat_minor": 5
}
